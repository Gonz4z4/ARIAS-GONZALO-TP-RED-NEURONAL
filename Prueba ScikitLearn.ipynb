{
 "cells": [
  {
   "cell_type": "code",
   "execution_count": 2,
   "metadata": {},
   "outputs": [
    {
     "name": "stdout",
     "output_type": "stream",
     "text": [
      "[array([[-0.18931386,  0.19479448,  0.44272829],\n",
      "       [ 0.12616142, -0.12479702, -0.47073524],\n",
      "       [ 0.48344114, -0.49103024, -0.03807859],\n",
      "       [-0.57442222, -0.1281215 ,  0.29084693],\n",
      "       [ 0.19900003,  0.30877299, -0.40764649],\n",
      "       [ 0.14545843, -0.17444543, -0.01999211],\n",
      "       [-0.08764115,  0.57878752,  0.17427363],\n",
      "       [-0.19348417,  0.02145931,  0.06011181]]), array([[-0.65700133],\n",
      "       [-0.71020968],\n",
      "       [ 0.39743589]])]\n",
      "[array([ 0.29589269,  0.64312664, -0.32972578]), array([0.60809785])]\n",
      "Puntaje del conjunto de entrenamiento: 0.501754\n",
      "Puntaje del conjunto de prueba: 0.566434\n"
     ]
    }
   ],
   "source": [
    "import pandas as pd\n",
    "# cargar datos\n",
    "from sklearn.model_selection import train_test_split\n",
    "from sklearn.neural_network import MLPClassifier\n",
    "\n",
    "df = pd.read_csv('Actualizado_DnD5e_Monsters_Stats.csv', delimiter=\",\")\n",
    "\n",
    "# Extraer variables de entrada (todas las filas, todas las columnas menos la última)\n",
    "# Nota que deberíamos hacer algún escalado lineal aquí\n",
    "X = (df.values[:, :-1] / 255.0)\n",
    "\n",
    "# Extraer columna de salida (todas las filas, última columna)\n",
    "Y = df.values[:, -1]\n",
    "\n",
    "# Separar los datos de entrenamiento y prueba\n",
    "X_train, X_test, Y_train, Y_test = train_test_split(X, Y, test_size=1/3)\n",
    "\n",
    "nn = MLPClassifier(solver='sgd',\n",
    "    hidden_layer_sizes=(3, ),\n",
    "    activation='relu',\n",
    "    max_iter=100_000,\n",
    "    learning_rate_init=.02)\n",
    "\n",
    "nn.fit(X_train, Y_train)\n",
    "\n",
    "# Imprimir pesos y sesgos\n",
    "print(nn.coefs_)\n",
    "print(nn.intercepts_)\n",
    "\n",
    "print(\"Puntaje del conjunto de entrenamiento: %f\" % nn.score(X_train, Y_train))\n",
    "print(\"Puntaje del conjunto de prueba: %f\" % nn.score(X_test, Y_test))\n"
   ]
  }
 ],
 "metadata": {
  "kernelspec": {
   "display_name": "base",
   "language": "python",
   "name": "python3"
  },
  "language_info": {
   "codemirror_mode": {
    "name": "ipython",
    "version": 3
   },
   "file_extension": ".py",
   "mimetype": "text/x-python",
   "name": "python",
   "nbconvert_exporter": "python",
   "pygments_lexer": "ipython3",
   "version": "3.12.7"
  }
 },
 "nbformat": 4,
 "nbformat_minor": 2
}
