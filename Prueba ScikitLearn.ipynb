{
 "cells": [
  {
   "cell_type": "code",
   "execution_count": 1,
   "metadata": {},
   "outputs": [
    {
     "name": "stdout",
     "output_type": "stream",
     "text": [
      "[array([[-5.03115261e-02,  1.16592127e-01,  1.08716345e+00],\n",
      "       [-4.69649961e-01,  6.66739530e+00,  3.78011860e+00],\n",
      "       [ 3.35914613e-01, -4.81648302e-01,  1.27830748e+00],\n",
      "       [ 5.87220553e-01,  5.93541366e-02,  4.52670495e-01],\n",
      "       [-1.23081642e-01,  4.90724573e-01, -1.99359784e-01],\n",
      "       [-9.29726929e-02,  9.14003992e-01, -8.90768370e-01],\n",
      "       [ 3.81298130e-01, -2.46202156e-01,  3.28813102e-01],\n",
      "       [-1.58695893e-03,  3.95317542e-01, -4.74137964e-03]]), array([[0.42570643],\n",
      "       [6.60889674],\n",
      "       [4.17518203]])]\n",
      "[array([-0.66621504, -0.33023209, -1.04068349]), array([-5.03947078])]\n",
      "Puntaje del conjunto de entrenamiento: 0.954386\n",
      "Puntaje del conjunto de prueba: 0.916084\n"
     ]
    }
   ],
   "source": [
    "import pandas as pd\n",
    "from sklearn.model_selection import train_test_split\n",
    "from sklearn.neural_network import MLPClassifier\n",
    "\n",
    "df = pd.read_csv('Actualizado_DnD5e_Monsters_Stats.csv', delimiter=\",\")\n",
    "\n",
    "# Extraer variables de entrada (todas las filas, todas las columnas menos la última) \n",
    "X = (df.values[:, :-1])\n",
    "\n",
    "# Extraer columna de salida (todas las filas, última columna)\n",
    "Y = df.values[:, -1] \n",
    "\n",
    "# Separar los datos de entrenamiento y prueba (1/3 para prueba)\n",
    "X_train, X_test, Y_train, Y_test = train_test_split(X, Y, test_size=1/3)\n",
    "\n",
    "nn = MLPClassifier(solver='sgd',\n",
    "    hidden_layer_sizes=(3, ),\n",
    "    activation='relu',\n",
    "    max_iter=100_000,\n",
    "    learning_rate_init=.01)\n",
    "\n",
    "nn.fit(X_train, Y_train)\n",
    "\n",
    "# Imprimir pesos y sesgos\n",
    "print(nn.coefs_)\n",
    "print(nn.intercepts_)\n",
    "\n",
    "print(\"Puntaje del conjunto de entrenamiento: %f\" % nn.score(X_train, Y_train))\n",
    "print(\"Puntaje del conjunto de prueba: %f\" % nn.score(X_test, Y_test))\n"
   ]
  }
 ],
 "metadata": {
  "kernelspec": {
   "display_name": "base",
   "language": "python",
   "name": "python3"
  },
  "language_info": {
   "codemirror_mode": {
    "name": "ipython",
    "version": 3
   },
   "file_extension": ".py",
   "mimetype": "text/x-python",
   "name": "python",
   "nbconvert_exporter": "python",
   "pygments_lexer": "ipython3",
   "version": "3.12.4"
  }
 },
 "nbformat": 4,
 "nbformat_minor": 2
}
