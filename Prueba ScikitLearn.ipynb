{
 "cells": [
  {
   "cell_type": "code",
   "execution_count": 2,
   "metadata": {},
   "outputs": [
    {
     "name": "stdout",
     "output_type": "stream",
     "text": [
      "[array([[-0.43338927,  0.67551913,  0.14844316, -0.51849843],\n",
      "       [-2.20701417,  4.01715443, -0.21435976,  0.280209  ],\n",
      "       [ 0.43554364,  0.33425827,  0.31769807, -0.7407614 ],\n",
      "       [ 0.65172139,  0.29686997, -0.30887488,  0.77537797],\n",
      "       [ 0.04655585,  2.22477636, -0.46589616, -0.16653495],\n",
      "       [ 0.0835135 ,  0.59183784,  0.27943951,  0.07900902],\n",
      "       [ 0.85911357,  0.54673737, -0.25278676,  0.31402067],\n",
      "       [-0.55370557,  0.56265966, -0.32587854,  0.66979338]]), array([[-2.45526287],\n",
      "       [ 4.76712563],\n",
      "       [ 0.3123336 ],\n",
      "       [ 0.59908728]])]\n",
      "[array([ 1.34564257, -1.37457477,  0.07347647, -0.10339238]), array([-1.08099276])]\n",
      "Puntaje del conjunto de entrenamiento: 0.912281\n",
      "Puntaje del conjunto de prueba: 0.923077\n"
     ]
    }
   ],
   "source": [
    "import pandas as pd\n",
    "from sklearn.model_selection import train_test_split\n",
    "from sklearn.neural_network import MLPClassifier\n",
    "\n",
    "df = pd.read_csv('Actualizado_DnD5e_Monsters_Stats.csv', delimiter=\",\")\n",
    "\n",
    "# Extraer variables de entrada (todas las filas, todas las columnas menos la última) \n",
    "X = (df.values[:, :-1])\n",
    "\n",
    "# Extraer columna de salida (todas las filas, última columna)\n",
    "Y = df.values[:, -1] \n",
    "\n",
    "# Separar los datos de entrenamiento y prueba (1/3 para prueba)\n",
    "X_train, X_test, Y_train, Y_test = train_test_split(X, Y, test_size=1/3)\n",
    "\n",
    "nn = MLPClassifier(solver='sgd',\n",
    "    hidden_layer_sizes=(4, ),\n",
    "    activation='relu',\n",
    "    max_iter=100_000,\n",
    "    learning_rate_init=.01)\n",
    "\n",
    "nn.fit(X_train, Y_train)\n",
    "\n",
    "# Imprimir pesos y sesgos\n",
    "print(nn.coefs_)\n",
    "print(nn.intercepts_)\n",
    "\n",
    "print(\"Puntaje del conjunto de entrenamiento: %f\" % nn.score(X_train, Y_train))\n",
    "print(\"Puntaje del conjunto de prueba: %f\" % nn.score(X_test, Y_test))\n"
   ]
  }
 ],
 "metadata": {
  "kernelspec": {
   "display_name": "base",
   "language": "python",
   "name": "python3"
  },
  "language_info": {
   "codemirror_mode": {
    "name": "ipython",
    "version": 3
   },
   "file_extension": ".py",
   "mimetype": "text/x-python",
   "name": "python",
   "nbconvert_exporter": "python",
   "pygments_lexer": "ipython3",
   "version": "3.12.7"
  }
 },
 "nbformat": 4,
 "nbformat_minor": 2
}
