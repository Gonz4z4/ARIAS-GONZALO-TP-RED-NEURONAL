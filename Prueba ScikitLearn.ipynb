{
 "cells": [
  {
   "cell_type": "code",
   "execution_count": 34,
   "metadata": {},
   "outputs": [
    {
     "name": "stdout",
     "output_type": "stream",
     "text": [
      "[array([[-0.66492065, -0.36390316, -0.4248212 ],\n",
      "       [-0.50076304, -7.11799121, -0.59918991],\n",
      "       [-0.03847868,  0.07459706, -0.67457197],\n",
      "       [ 0.37167039, -0.43760998,  0.3722302 ],\n",
      "       [ 0.5118936 , -1.02145368, -0.58509219],\n",
      "       [-0.29625447, -0.19675394,  0.18097222],\n",
      "       [-0.35101523, -0.14922651,  0.57531985],\n",
      "       [-0.67848159, -0.47316923,  0.81155415]]), array([[-0.36160054],\n",
      "       [-7.42433727],\n",
      "       [ 0.78064841]])]\n",
      "[array([-0.40766712,  2.18969863, -0.07425433]), array([4.66859657])]\n",
      "Puntaje del conjunto de entrenamiento: 0.933333\n",
      "Puntaje del conjunto de prueba: 0.930070\n"
     ]
    }
   ],
   "source": [
    "import pandas as pd\n",
    "from sklearn.model_selection import train_test_split\n",
    "from sklearn.neural_network import MLPClassifier\n",
    "\n",
    "df = pd.read_csv('Actualizado_DnD5e_Monsters_Stats.csv', delimiter=\",\")\n",
    "\n",
    "# Extraer variables de entrada (todas las filas, todas las columnas menos la última) \n",
    "X = (df.values[:, :-1])\n",
    "\n",
    "# Extraer columna de salida (todas las filas, última columna)\n",
    "Y = df.values[:, -1] \n",
    "\n",
    "# Separar los datos de entrenamiento y prueba (1/3 para prueba)\n",
    "X_train, X_test, Y_train, Y_test = train_test_split(X, Y, test_size=1/3)\n",
    "\n",
    "nn = MLPClassifier(solver='sgd',\n",
    "    hidden_layer_sizes=(3, ),\n",
    "    activation='relu',\n",
    "    max_iter=100_000,\n",
    "    learning_rate_init=.02)\n",
    "\n",
    "nn.fit(X_train, Y_train)\n",
    "\n",
    "# Imprimir pesos y sesgos\n",
    "print(nn.coefs_)\n",
    "print(nn.intercepts_)\n",
    "\n",
    "print(\"Puntaje del conjunto de entrenamiento: %f\" % nn.score(X_train, Y_train))\n",
    "print(\"Puntaje del conjunto de prueba: %f\" % nn.score(X_test, Y_test))\n"
   ]
  }
 ],
 "metadata": {
  "kernelspec": {
   "display_name": "base",
   "language": "python",
   "name": "python3"
  },
  "language_info": {
   "codemirror_mode": {
    "name": "ipython",
    "version": 3
   },
   "file_extension": ".py",
   "mimetype": "text/x-python",
   "name": "python",
   "nbconvert_exporter": "python",
   "pygments_lexer": "ipython3",
   "version": "3.12.4"
  }
 },
 "nbformat": 4,
 "nbformat_minor": 2
}
