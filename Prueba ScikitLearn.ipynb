{
 "cells": [
  {
   "cell_type": "code",
   "execution_count": 3,
   "metadata": {},
   "outputs": [
    {
     "name": "stdout",
     "output_type": "stream",
     "text": [
      "[array([[-0.01027676,  0.07834213, -0.4442396 ],\n",
      "       [-4.65865378, -0.09073092,  0.23441818],\n",
      "       [-0.03137283,  0.33022663, -0.58045324],\n",
      "       [-0.61325907, -0.26388591,  0.47301398],\n",
      "       [-2.17419558,  0.32210495,  0.46927007],\n",
      "       [-0.6382846 , -0.71058001,  0.44255337],\n",
      "       [ 0.28698693, -0.51018009,  0.53975871],\n",
      "       [-0.67579305, -0.15844336, -0.09531926]]), array([[-5.75692487],\n",
      "       [-0.76415229],\n",
      "       [-0.3831469 ]])]\n",
      "[array([ 2.55561723, -0.67316246, -0.88377851]), array([3.91480117])]\n",
      "Puntaje del conjunto de entrenamiento: 0.922807\n",
      "Puntaje del conjunto de prueba: 0.944056\n"
     ]
    }
   ],
   "source": [
    "import pandas as pd\n",
    "from sklearn.model_selection import train_test_split\n",
    "from sklearn.neural_network import MLPClassifier\n",
    "\n",
    "df = pd.read_csv('Actualizado_DnD5e_Monsters_Stats.csv', delimiter=\",\")\n",
    "\n",
    "# Extraer variables de entrada (todas las filas, todas las columnas menos la última) \n",
    "X = (df.values[:, :-1])\n",
    "\n",
    "# Extraer columna de salida (todas las filas, última columna)\n",
    "Y = df.values[:, -1] \n",
    "\n",
    "# Separar los datos de entrenamiento y prueba (1/3 para prueba)\n",
    "X_train, X_test, Y_train, Y_test = train_test_split(X, Y, test_size=1/3)\n",
    "\n",
    "nn = MLPClassifier(solver='sgd',\n",
    "    hidden_layer_sizes=(3, ),\n",
    "    activation='relu',\n",
    "    max_iter=100_000,\n",
    "    learning_rate_init=.01)\n",
    "\n",
    "nn.fit(X_train, Y_train)\n",
    "\n",
    "# Imprimir pesos y sesgos\n",
    "print(nn.coefs_)\n",
    "print(nn.intercepts_)\n",
    "\n",
    "print(\"Puntaje del conjunto de entrenamiento: %f\" % nn.score(X_train, Y_train))\n",
    "print(\"Puntaje del conjunto de prueba: %f\" % nn.score(X_test, Y_test))\n"
   ]
  }
 ],
 "metadata": {
  "kernelspec": {
   "display_name": "base",
   "language": "python",
   "name": "python3"
  },
  "language_info": {
   "codemirror_mode": {
    "name": "ipython",
    "version": 3
   },
   "file_extension": ".py",
   "mimetype": "text/x-python",
   "name": "python",
   "nbconvert_exporter": "python",
   "pygments_lexer": "ipython3",
   "version": "3.12.4"
  }
 },
 "nbformat": 4,
 "nbformat_minor": 2
}
