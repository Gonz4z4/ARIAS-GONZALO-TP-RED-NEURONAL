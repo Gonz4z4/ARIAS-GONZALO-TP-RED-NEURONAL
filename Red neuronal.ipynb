{
 "cells": [
  {
   "cell_type": "code",
   "execution_count": 232,
   "metadata": {},
   "outputs": [],
   "source": [
    "import numpy as np\n",
    "import pandas as pd\n",
    "from sklearn.model_selection import train_test_split\n",
    "\n",
    "# carga de datos \n",
    "all_data = pd.read_csv(\"Actualizado_DnD5e_Monsters_Stats.csv\")\n",
    "# seleccion de las columnas de entradas (todas menos la última)\n",
    "all_inputs = all_data.iloc[:, :-1].values\n",
    "# selecciono la columna de salida (la última)\n",
    "all_outputs = all_data.iloc[:, -1].values\n",
    "\n",
    "# División del conjunto de datos en entrenamiento y prueba (1/3 de prueba)\n",
    "X_train, X_test, Y_train, Y_test = train_test_split(all_inputs, all_outputs, test_size=1/3)\n",
    "\n",
    "# Pesos y sesgos iniciados aleatoriamente para el primer forward propagation \n",
    "np.random.seed(16) #Con una semilla para reproductibilidad\n",
    "w_hidden = np.random.rand(4, 8) # hay 4 nodos en la  capa oculta y 8 entradas, cada una con su peso\n",
    "w_output = np.random.rand(1, 4) # Hay 1 nodo de salida y 4 entradas de cada uno de los nodos de la capa anterior\n",
    "\n",
    "b_hidden = np.random.rand(4, 1) # Al haber 4 nodos, cada uno tiene su propio sesgo\n",
    "b_output = np.random.rand(1, 1) # El nodo de salida tiene su propio sesgo\n",
    "\n",
    "# Funciones de activacion\n",
    "relu = lambda x: np.maximum(x, 0) #Para la capa oculta\n",
    "logistic = lambda x: 1 / (1 + np.exp(-x)) #Para la capa de salida\n",
    "\n",
    "\n",
    "def forward_prop(X): # Forward propagation con una capa oculta y una capa de salida\n",
    "    Z1 = w_hidden @ X + b_hidden\n",
    "    A1 = relu(Z1)\n",
    "    Z2 = w_output @ A1 + b_output\n",
    "    A2 = logistic(Z2)\n",
    "    return Z1, A1, Z2, A2"
   ]
  },
  {
   "cell_type": "code",
   "execution_count": 231,
   "metadata": {},
   "outputs": [
    {
     "name": "stdout",
     "output_type": "stream",
     "text": [
      "ACCURACY:  0.46153846153846134\n"
     ]
    }
   ],
   "source": [
    "# Calculo de precisión\n",
    "\n",
    "test_predictions = forward_prop(X_test.transpose())[3] # Obtengo A2 (Si se coloca 0, 1 o 2 se pueden obtener Z1,A1 o Z2 respectivamente)\n",
    "test_comparisons = np.equal((test_predictions >= .5).flatten().astype(int), Y_test) # Comparación de predicciones con reales\n",
    "accuracy = sum(test_comparisons.astype(int) / X_test.shape[0]) # Calculo de precisión\n",
    "print(\"ACCURACY: \", accuracy)"
   ]
  }
 ],
 "metadata": {
  "kernelspec": {
   "display_name": "base",
   "language": "python",
   "name": "python3"
  },
  "language_info": {
   "codemirror_mode": {
    "name": "ipython",
    "version": 3
   },
   "file_extension": ".py",
   "mimetype": "text/x-python",
   "name": "python",
   "nbconvert_exporter": "python",
   "pygments_lexer": "ipython3",
   "version": "3.12.4"
  }
 },
 "nbformat": 4,
 "nbformat_minor": 2
}
