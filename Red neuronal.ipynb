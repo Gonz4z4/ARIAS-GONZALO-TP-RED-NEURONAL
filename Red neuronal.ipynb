{
 "cells": [
  {
   "cell_type": "code",
   "execution_count": 461,
   "metadata": {},
   "outputs": [],
   "source": [
    "import numpy as np\n",
    "import pandas as pd\n",
    "from sklearn.model_selection import train_test_split\n",
    "\n",
    "# carga de datos \n",
    "all_data = pd.read_csv(\"Actualizado_DnD5e_Monsters_Stats.csv\")\n",
    "# seleccion de las columnas de entradas (todas menos la última)\n",
    "all_inputs = all_data.iloc[:, :-1].values\n",
    "# selecciono la columna de salida (la última)\n",
    "all_outputs = all_data.iloc[:, -1].values\n",
    "\n",
    "# División del conjunto de datos en entrenamiento y prueba (1/3 de prueba)\n",
    "X_train, X_test, Y_train, Y_test = train_test_split(all_inputs, all_outputs, test_size=1/3)\n",
    "n = X_train.shape[0] # número de registros de entrenamiento\n",
    "\n",
    "# Pesos y sesgos iniciados aleatoriamente para el primer forward propagation \n",
    "np.random.seed(10) #Con una semilla para reproductibilidad\n",
    "w_hidden = np.random.rand(4, 8) *2 - 1# hay 4 nodos en la  capa oculta y 8 entradas, cada una con su peso\n",
    "w_output = np.random.rand(1, 4) *2 - 1# Hay 1 nodo de salida y 4 entradas de cada uno de los nodos de la capa anterior\n",
    "\n",
    "b_hidden = np.random.rand(4, 1) *2 - 1# Al haber 4 nodos, cada uno tiene su propio sesgo\n",
    "b_output = np.random.rand(1, 1) *2 - 1# El nodo de salida tiene su propio sesgo\n",
    "\n",
    "# Funciones de activacion\n",
    "relu = lambda x: np.maximum(x, 0) #Para la capa oculta\n",
    "logistic = lambda x: 1 / (1 + np.exp(-x)) #Para la capa de salida\n",
    "\n",
    "\n",
    "def forward_prop(X): # Forward propagation con una capa oculta y una capa de salida\n",
    "    Z1 = w_hidden @ X + b_hidden\n",
    "    A1 = relu(Z1)\n",
    "    Z2 = w_output @ A1 + b_output\n",
    "    A2 = logistic(Z2)\n",
    "    return Z1, A1, Z2, A2\n"
   ]
  },
  {
   "cell_type": "code",
   "execution_count": 462,
   "metadata": {},
   "outputs": [
    {
     "name": "stdout",
     "output_type": "stream",
     "text": [
      "ACCURACY:  0.49650349650349623\n"
     ]
    }
   ],
   "source": [
    "# Calculo de precisión de los datos de prueba (previo a backpropagation)\n",
    "\n",
    "test_predictions = forward_prop(X_test.transpose())[3] \n",
    "# Obtengo A2 (Si se coloca 0, 1 o 2 se pueden obtener Z1,A1 o Z2 respectivamente)\n",
    "test_comparisons = np.equal((test_predictions >= .5).flatten().astype(int), Y_test)#Comparación de predicciones con reales\n",
    "accuracy = sum(test_comparisons.astype(int) / X_test.shape[0]) # Calculo de precisión\n",
    "print(\"ACCURACY: \", accuracy)\n"
   ]
  },
  {
   "cell_type": "code",
   "execution_count": 463,
   "metadata": {},
   "outputs": [],
   "source": [
    "#Back propagation\n",
    "\n",
    "# Tasa de aprendizaje\n",
    "L = 0.01\n",
    "\n",
    "# Derivadas de las funciones de activación\n",
    "d_relu = lambda x: x > 0\n",
    "d_logistic = lambda x: np.exp(-x) / (1 + np.exp(-x)) ** 2\n",
    "\n",
    "# Cálculo de derivadas para obtener la derivada del costo con respecto a cada elemento\n",
    "def backward_prop(Z1, A1, Z2, A2, X, Y):\n",
    "    # Cálculo de cada parte de la derivada utilizando la regla de la cadena\n",
    "    dC_dA2 = 2 * A2 - 2 * Y\n",
    "    dA2_dZ2 = d_logistic(Z2)\n",
    "    dZ2_dA1 = w_output\n",
    "    dZ2_dW2 = A1\n",
    "    dZ2_dB2 = 1\n",
    "    dA1_dZ1 = d_relu(Z1)\n",
    "    dZ1_dW1 = X\n",
    "    dZ1_dB1 = 1\n",
    "\n",
    "    # Derivadas del costo con respecto a W2, B2, A1, W1 y B1\n",
    "    dC_dW2 = dC_dA2 @ dA2_dZ2 @ dZ2_dW2.T\n",
    "\n",
    "    dC_dB2 = dC_dA2 @ dA2_dZ2 * dZ2_dB2\n",
    "\n",
    "    dC_dA1 = dC_dA2 @ dA2_dZ2 @ dZ2_dA1\n",
    "\n",
    "    dC_dW1 = dC_dA1 @ dA1_dZ1 @ dZ1_dW1.T\n",
    "\n",
    "    dC_dB1 = dC_dA1 @ dA1_dZ1 * dZ1_dB1\n",
    "\n",
    "    return dC_dW1, dC_dB1, dC_dW2, dC_dB2"
   ]
  },
  {
   "cell_type": "code",
   "execution_count": 464,
   "metadata": {},
   "outputs": [],
   "source": [
    "# Descenso de gradiente estocástico\n",
    "iteraciones = 100_000\n",
    "\n",
    "for i in range(iteraciones):\n",
    "    # seleccionar aleatoriamente uno de los datos de entrenamiento\n",
    "    idx = np.random.choice(n, 1, replace=False) \n",
    "    X_sample = X_train[idx].transpose()\n",
    "    Y_sample = Y_train[idx]\n",
    "\n",
    "    # pasar datos seleccionados aleatoriamente a través de la red neuronal\n",
    "    Z1, A1, Z2, A2 = forward_prop(X_sample)\n",
    "\n",
    "    # distribuir error a través de la retropropagación\n",
    "    # y devolver pendientes para pesos y sesgos\n",
    "    dW1, dB1, dW2, dB2 = backward_prop(Z1, A1, Z2, A2, X_sample, Y_sample)\n",
    "\n",
    "    # actualizar pesos y sesgos\n",
    "    w_hidden -= L * dW1\n",
    "    b_hidden -= L * dB1\n",
    "    w_output -= L * dW2\n",
    "    b_output -= L * dB2\n",
    "    "
   ]
  },
  {
   "cell_type": "code",
   "execution_count": 465,
   "metadata": {},
   "outputs": [
    {
     "name": "stdout",
     "output_type": "stream",
     "text": [
      "Train Accuracy: 0.9403508771929825\n",
      "Test Accuracy: 0.9300699300699301\n"
     ]
    }
   ],
   "source": [
    "# Calculo de precisión de entrenamiento\n",
    "train_predictions = forward_prop(X_train.transpose())[3]\n",
    "train_comparisons = np.equal((train_predictions >= .5).flatten().astype(int), Y_train)\n",
    "train_accuracy = sum(train_comparisons.astype(int)) / X_train.shape[0]\n",
    "\n",
    "print(f\"Train Accuracy: {train_accuracy}\")\n",
    "\n",
    "\n",
    "# Calculo de precisión de prueba\n",
    "test_predictions = forward_prop(X_test.transpose())[3]  \n",
    "test_comparisons = np.equal((test_predictions >= .5).flatten().astype(int), Y_test)\n",
    "test_accuracy = sum(test_comparisons.astype(int)) / X_test.shape[0]\n",
    "\n",
    "print(f\"Test Accuracy: {test_accuracy}\")\n"
   ]
  },
  {
   "cell_type": "code",
   "execution_count": 466,
   "metadata": {},
   "outputs": [],
   "source": [
    "# Pedir datos para hacer forward propagation con la red entrenada\n",
    "# En formato diccionario para hacer un Dataframe\n",
    "def pedir_datos():\n",
    "    armor_class = int(input(\"Armor Class: \"))\n",
    "    hit_points = int(input(\"Hit Points: \"))\n",
    "    str = int(input(\"Strength: \"))\n",
    "    dex = int(input(\"Dexterity: \"))\n",
    "    con = int(input(\"Constitution: \"))\n",
    "    intelligence = int(input(\"Intelligence: \"))\n",
    "    wis = int(input(\"Wisdom: \"))\n",
    "    cha = int(input(\"Charisma: \"))\n",
    "\n",
    "    return {\n",
    "        'Armor Class': armor_class,\n",
    "        'Hit Points': hit_points,\n",
    "        'STR': str,\n",
    "        'DEX': dex,\n",
    "        'CON': con,\n",
    "        'INT': intelligence,\n",
    "        'WIS': wis,\n",
    "        'CHA': cha\n",
    "    }\n",
    "    \n",
    "\n",
    "#Función de Forward propagation\n",
    "def predict_probability(nuevos_valores):\n",
    "    X= (nuevos_valores.values).T\n",
    "    Z1, A1, Z2, A2 = forward_prop(X)\n",
    "    return A2\n",
    "\n",
    "# Si A2 es más cercano a 1, significa que el monstruo es un jefe\n",
    "def predecir_si_jefe(nuevos_valores):\n",
    "    output_values = predict_probability(nuevos_valores)\n",
    "    if output_values > .5:\n",
    "        return \"Jefe\"\n",
    "    else:\n",
    "        return \"Monstruo común\"\n"
   ]
  },
  {
   "cell_type": "code",
   "execution_count": 467,
   "metadata": {},
   "outputs": [
    {
     "data": {
      "text/plain": [
       "'Jefe'"
      ]
     },
     "execution_count": 467,
     "metadata": {},
     "output_type": "execute_result"
    }
   ],
   "source": [
    "datos_usuario = pd.DataFrame([pedir_datos()])# Pedir datos al usuario y convertirlo a dataframe\n",
    "minMax = pd.read_csv('minMax.csv').T #Al estar en archivos distintos, fue necesario pasar por un DF los min y max\n",
    "\n",
    "#Normalizo los datos de usuario\n",
    "for column in datos_usuario:\n",
    "    min_val = minMax[0][column]\n",
    "    max_val = minMax[1][column]\n",
    "    datos_usuario[column] = (datos_usuario[column] - min_val) / (max_val - min_val)\n",
    "\n",
    "predecir_si_jefe(datos_usuario)"
   ]
  }
 ],
 "metadata": {
  "kernelspec": {
   "display_name": "base",
   "language": "python",
   "name": "python3"
  },
  "language_info": {
   "codemirror_mode": {
    "name": "ipython",
    "version": 3
   },
   "file_extension": ".py",
   "mimetype": "text/x-python",
   "name": "python",
   "nbconvert_exporter": "python",
   "pygments_lexer": "ipython3",
   "version": "3.12.4"
  }
 },
 "nbformat": 4,
 "nbformat_minor": 2
}
